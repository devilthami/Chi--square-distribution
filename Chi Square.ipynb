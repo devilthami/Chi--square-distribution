{
 "cells": [
  {
   "cell_type": "code",
   "execution_count": null,
   "id": "9a480204-c000-49b7-bca1-003b30280ff3",
   "metadata": {},
   "outputs": [],
   "source": [
    "#Chi Square distribution is used as a basis to verify the hypothesis.\n",
    "#df - (degree of freedom)\n",
    "#size -  the shape of the returned array."
   ]
  },
  {
   "cell_type": "code",
   "execution_count": 7,
   "id": "9a1597f1-e47f-4045-ac73-fa62da91462f",
   "metadata": {},
   "outputs": [
    {
     "ename": "SyntaxError",
     "evalue": "invalid syntax (675319507.py, line 1)",
     "output_type": "error",
     "traceback": [
      "\u001b[1;36m  Cell \u001b[1;32mIn[7], line 1\u001b[1;36m\u001b[0m\n\u001b[1;33m    from numpy import\u001b[0m\n\u001b[1;37m                      ^\u001b[0m\n\u001b[1;31mSyntaxError\u001b[0m\u001b[1;31m:\u001b[0m invalid syntax\n"
     ]
    }
   ],
   "source": [
    "from numpy import \n",
    "import matplotlib.pyplot as plt\n",
    "import seaborn as sns"
   ]
  },
  {
   "cell_type": "code",
   "execution_count": null,
   "id": "2a6dfbb4-a8a2-467a-8c11-2906e8932f07",
   "metadata": {},
   "outputs": [],
   "source": []
  }
 ],
 "metadata": {
  "kernelspec": {
   "display_name": "Python 3 (ipykernel)",
   "language": "python",
   "name": "python3"
  },
  "language_info": {
   "codemirror_mode": {
    "name": "ipython",
    "version": 3
   },
   "file_extension": ".py",
   "mimetype": "text/x-python",
   "name": "python",
   "nbconvert_exporter": "python",
   "pygments_lexer": "ipython3",
   "version": "3.11.2"
  }
 },
 "nbformat": 4,
 "nbformat_minor": 5
}
